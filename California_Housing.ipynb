{
 "cells": [
  {
   "cell_type": "code",
   "execution_count": 1,
   "id": "6e709763-2fe4-4099-b2bc-acdd2d4cca2b",
   "metadata": {},
   "outputs": [],
   "source": [
    "# Import necessary libraries\n",
    "import numpy as np\n",
    "import pandas as pd\n",
    "from sklearn.datasets import fetch_california_housing\n",
    "from sklearn.model_selection import train_test_split\n",
    "from sklearn.preprocessing import StandardScaler\n",
    "from sklearn.neighbors import KNeighborsRegressor\n",
    "from sklearn.metrics import mean_squared_error, mean_absolute_error, r2_score\n",
    "import matplotlib.pyplot as plt"
   ]
  },
  {
   "cell_type": "code",
   "execution_count": 2,
   "id": "7c14ae7b-3c53-4ff7-a9b0-f0795e4b7c45",
   "metadata": {},
   "outputs": [],
   "source": [
    "# Load California Housing dataset\n",
    "california = fetch_california_housing()\n",
    "X = california.data\n",
    "y = california.target\n",
    "feature_names = california.feature_names\n"
   ]
  },
  {
   "cell_type": "code",
   "execution_count": 3,
   "id": "bcee8779-8e80-43e0-9d92-11c0f1c908b7",
   "metadata": {},
   "outputs": [],
   "source": [
    "# Split dataset into training and test sets\n",
    "X_train, X_test, y_train, y_test = train_test_split(X, y, test_size=0.2, random_state=42)\n",
    "\n",
    "# Feature scaling (important for KNN as it's distance-based)\n",
    "scaler = StandardScaler()\n",
    "X_train = scaler.fit_transform(X_train)\n",
    "X_test = scaler.transform(X_test)"
   ]
  },
  {
   "cell_type": "code",
   "execution_count": 4,
   "id": "5d866502-5092-4a9d-a845-28c6cae86400",
   "metadata": {},
   "outputs": [],
   "source": [
    "# Create KNN regressor\n",
    "# You can experiment with different n_neighbors values\n",
    "knn = KNeighborsRegressor(n_neighbors=5, metric='euclidean')\n"
   ]
  },
  {
   "cell_type": "code",
   "execution_count": 5,
   "id": "288f568c-e294-453a-8cbf-96b2c861a68c",
   "metadata": {},
   "outputs": [],
   "source": [
    "# Train the model\n",
    "knn.fit(X_train, y_train)\n",
    "\n",
    "# Make predictions\n",
    "y_pred = knn.predict(X_test)\n"
   ]
  },
  {
   "cell_type": "code",
   "execution_count": 6,
   "id": "38c26d52-09b6-4a64-8e3c-a3f2870aef99",
   "metadata": {},
   "outputs": [
    {
     "name": "stdout",
     "output_type": "stream",
     "text": [
      "Model Evaluation Metrics:\n",
      "Mean Squared Error (MSE): 0.4324\n",
      "Root Mean Squared Error (RMSE): 0.6576\n",
      "Mean Absolute Error (MAE): 0.4462\n",
      "R-squared (R²) Score: 0.6700\n"
     ]
    }
   ],
   "source": [
    "# Evaluate the model\n",
    "print(\"Model Evaluation Metrics:\")\n",
    "print(f\"Mean Squared Error (MSE): {mean_squared_error(y_test, y_pred):.4f}\")\n",
    "print(f\"Root Mean Squared Error (RMSE): {np.sqrt(mean_squared_error(y_test, y_pred)):.4f}\")\n",
    "print(f\"Mean Absolute Error (MAE): {mean_absolute_error(y_test, y_pred):.4f}\")\n",
    "print(f\"R-squared (R²) Score: {r2_score(y_test, y_pred):.4f}\")"
   ]
  },
  {
   "cell_type": "code",
   "execution_count": 7,
   "id": "49bb39a3-4e46-415c-bc04-9cd82f378a0e",
   "metadata": {},
   "outputs": [
    {
     "name": "stderr",
     "output_type": "stream",
     "text": [
      "C:\\Users\\thatc\\AppData\\Local\\Temp\\ipykernel_3616\\3781763521.py:8: MatplotlibDeprecationWarning: The 'labels' parameter of boxplot() has been renamed 'tick_labels' since Matplotlib 3.9; support for the old name will be dropped in 3.11.\n",
      "  plt.boxplot(result.importances[sorted_idx].T,\n"
     ]
    },
    {
     "data": {
      "image/png": "[encoded data removed]",
      "text/plain": [
       "<Figure size 1000x600 with 1 Axes>"
      ]
     },
     "metadata": {},
     "output_type": "display_data"
    }
   ],
   "source": [
    "# Feature importance (not native to KNN, but we can use permutation importance)\n",
    "from sklearn.inspection import permutation_importance\n",
    "\n",
    "result = permutation_importance(knn, X_test, y_test, n_repeats=10, random_state=42)\n",
    "sorted_idx = result.importances_mean.argsort()\n",
    "\n",
    "plt.figure(figsize=(10, 6))\n",
    "plt.boxplot(result.importances[sorted_idx].T,\n",
    "           vert=False, labels=np.array(feature_names)[sorted_idx])\n",
    "plt.title(\"Permutation Importance (test set)\")\n",
    "plt.tight_layout()\n",
    "plt.show()"
   ]
  },
  {
   "cell_type": "code",
   "execution_count": 8,
   "id": "70009705-d1f4-42e7-aafe-529fb5f55092",
   "metadata": {},
   "outputs": [],
   "source": [
    "# Function to make new predictions (example)\n",
    "def predict_housing_price(new_data):\n",
    "    \"\"\"\n",
    "    Predict housing prices for new data points\n",
    "    new_data: Should be a 2D array with the same features as training data\n",
    "    Returns: Predicted price and confidence interval (based on neighbor prices)\n",
    "    \"\"\"\n",
    "    # Scale the new data using the same scaler\n",
    "    new_data_scaled = scaler.transform(new_data)\n",
    "    prediction = knn.predict(new_data_scaled)\n",
    "    \n",
    "    # Get distances and indices of neighbors\n",
    "    distances, indices = knn.kneighbors(new_data_scaled)\n",
    "    \n",
    "    # Calculate confidence interval based on neighbor prices\n",
    "    neighbor_prices = y_train[indices]\n",
    "    lower_bound = np.min(neighbor_prices, axis=1)\n",
    "    upper_bound = np.max(neighbor_prices, axis=1)\n",
    "    \n",
    "    return prediction, (lower_bound, upper_bound)"
   ]
  },
  {
   "cell_type": "code",
   "execution_count": null,
   "id": "1c059dd5-260f-4c34-9e7c-b13bb92158ae",
   "metadata": {},
   "outputs": [],
   "source": []
  }
 ],
 "metadata": {
  "kernelspec": {
   "display_name": "Python 3 (ipykernel)",
   "language": "python",
   "name": "python3"
  },
  "language_info": {
   "codemirror_mode": {
    "name": "ipython",
    "version": 3
   },
   "file_extension": ".py",
   "mimetype": "text/x-python",
   "name": "python",
   "nbconvert_exporter": "python",
   "pygments_lexer": "ipython3",
   "version": "3.13.2"
  }
 },
 "nbformat": 4,
 "nbformat_minor": 5
}
